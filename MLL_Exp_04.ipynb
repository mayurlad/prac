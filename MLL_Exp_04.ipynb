import pandas as pd
import numpy as np
import seaborn as sns
import matplotlib.pyplot as plt
%matplotlib inline
import warnings
warnings.filterwarnings('ignore')
from sklearn.preprocessing import scale
from sklearn.model_selection import train_test_split
from sklearn.neighbors import KNeighborsClassifier
from sklearn.svm import SVC
from sklearn import metrics
*
df = pd.read_csv('./Datasets/diabetes.csv')
df
*
df.columns
*
df.isnull().sum()
*
x = df.drop('Outcome', axis=1)
y = df['Outcome']
*
x = scale(x)
# Split into Train & Test Data
x_train, x_test, y_train, y_test = train_test_split(x, y, test_size=0.3,
*
knn = KNeighborsClassifier(n_neighbors=7)
knn.fit(x_train, y_train)
y_pred = knn.predict(x_test)
*
cs = metrics.confusion_matrix(y_test,y_pred)
print('Confusion Matrix:\n',cs)
*
print('Acccuracy:\n',metrics.accuracy_score(y_test,y_pred))
*
total_misclassified = cs[0,1] + cs[1,0]
print('Total Misclassified Entries:\n',total_misclassified)
total_examples = cs[0,0]+cs[0,1]+cs[1,0]+cs[1,1]
print('Total Entries:\n',total_examples)
print('Error Rate:\n',total_misclassified/total_examples)
print('Error Rate:\n',1-metrics.accuracy_score(y_test,y_pred))
*
print('Precision Score:\n',metrics.precision_score(y_test,y_pred))
*
print('Recall Score:\n',metrics.recall_score(y_test,y_pred))
*
print('Classification Report\n',metrics.classification_report(y_test,y_pred))
*





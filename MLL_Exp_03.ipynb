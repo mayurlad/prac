import matplotlib.pyplot as plt
import numpy as np
*
# Gradient Descent Algorithm to find the local minima of
# the function y = (x + 3)^2

# Define the function and its derivative
def given_function(x):
    return (x + 3) ** 2

def derivative(x):
    return 2 * (x + 3)
*
def gradient_descent(function, start, learn_rate, n_iter = 100,
                     tolerance = 0.1):
    gradient = derivative
    function = given_function
    points = [start]
    iters = 0
    
    while iters < n_iter:
        prev_x = start
        start = start - learn_rate * gradient(prev_x)
        iters = iters+1
        points.append(start)
    print("The local minimum occurs at", start)

    x_ = np.linspace(-7, 5, 100)
    y = function(x_)

    fig = plt.figure(figsize = (10, 10))
    plt.plot(x_, y, 'g')
    plt.plot(points, function(np.array(points)), '-o')

    plt.show()
*
gradient_descent(function = given_function, start = 2.0, learn_rate = 0.2,
                 n_iter = 50)
*

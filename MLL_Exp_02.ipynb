import pandas as pd
import numpy as np
import seaborn as sns
import matplotlib.pyplot as plt
from sklearn.model_selection import train_test_split
from sklearn.preprocessing import StandardScaler
from keras.models import Sequential
from keras.layers import Dense, Input
from sklearn.metrics import confusion_matrix, accuracy_score, classification_report
*
df = pd.read_csv('./Datasets/churn_modelling.csv')
df.head()
*
df.shape
*
df.describe
*
df.isnull()
df.isnull().sum()
*
df.info()
*
df.dtypes
*
df.columns
*
df = df.drop(['RowNumber', 'Surname', 'CustomerId'], axis = 1)
df.head()
*
def visualization(x, y, xlabel):
    plt.figure(figsize=(10,5))
    plt.hist([x, y], color=['yellow', 'blue'], label = ['exited', 'not_exited'])
    plt.xlabel(xlabel,fontsize=20)
    plt.ylabel('No. of customers', fontsize=20)
    plt.legend()
*
df_churn_exited = df[df['Exited']==1]['Tenure']
df_churn_not_exited = df[df['Exited']==0]['Tenure']
*
visualization(df_churn_exited, df_churn_not_exited, 'Tenure')
*
df_churn_exited2 = df[df['Exited']==1]['Age']
df_churn_not_exited2 = df[df['Exited']==0]['Age']
*
visualization(df_churn_exited2, df_churn_not_exited2, 'Age')
*
x = df[['CreditScore', 'Gender', 'Age', 'Tenure', 'Balance', 'NumOfProducts', 
        'HasCrCard', 'IsActiveMember', 'EstimatedSalary']]
states = pd.get_dummies(df['Geography'], drop_first = True)
gender = pd.get_dummies(df['Gender'], drop_first = True)

*
df = pd.concat([df,gender,states], axis = 1)
df.head()
*
x = df[['CreditScore', 'Age', 'Tenure', 'Balance', 'NumOfProducts', 'IsActiveMember', 'EstimatedSalary', 'Male', 'Germany', 'Spain']]
y = df['Exited']
*
x_train, x_test, y_train, y_test = train_test_split(x, y, test_size = 0.3)
*
sc = StandardScaler()
*
x_train = sc.fit_transform(x_train)
x_test = sc.transform(x_test)
*
print('Training Data:\n',x_train)
*
print('Testing Data:\n',x_test)
*
classifier = Sequential()
*
classifier.add(Input(shape=(10,)))
*
classifier.add(Dense(units = 6, kernel_initializer = 'he_uniform', activation = 'relu'))
classifier.add(Dense(units = 6, kernel_initializer = 'he_uniform', activation = 'relu'))
classifier.add(Dense(units = 1, kernel_initializer = 'glorot_uniform', activation = 'sigmoid'))
classifier.compile(optimizer = 'adam', loss = 'binary_crossentropy', metrics = ['accuracy'])
*
*
classifier.summary()
*
classifier.fit(x_train, y_train, batch_size = 10, epochs = 50)
*
y_pred =classifier.predict(x_test)
y_pred = (y_pred > 0.5)
*
cm = confusion_matrix(y_test, y_pred)
print('Confusion Matrix:\n', cm)
*
acc = accuracy_score(y_test, y_pred)
print('Accuracy Score:', acc)
*
plt.figure(figsize=(10,7))
sns.heatmap(cm, annot = True)
plt.xlabel('Predicted')
plt.ylabel('Truth')
*
print('Classification Report:\n',classification_report(y_test, y_pred))
*








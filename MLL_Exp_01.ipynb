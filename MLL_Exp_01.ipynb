import pandas as pd
import numpy as np
import seaborn as sns
import matplotlib.pyplot as plt
import haversine as hs
from sklearn.model_selection import train_test_split
from sklearn.linear_model import LinearRegression
from sklearn.metrics import r2_score 
from sklearn.ensemble import RandomForestRegressor
from sklearn.metrics import r2_score 
from sklearn.metrics import mean_squared_error,root_mean_squared_error
*
df = pd.read_csv('./Datasets/uber.csv')
df
*
df.head()
*
df.info()
*
df.columns
*
df = df.drop(['Unnamed: 0', 'key'], axis = 1)
*
df.shape
*
df.info()
*
df.describe()
*
df.isnull().sum()
*
df.dtypes
*
df.pickup_datetime = pd.to_datetime(df.pickup_datetime,
                                    errors='coerce')
*
df.dtypes
*
df= df.assign(hour = df.pickup_datetime.dt.hour,
              day= df.pickup_datetime.dt.day,
              month = df.pickup_datetime.dt.month,
              year = df.pickup_datetime.dt.year,
              dayofweek = df.pickup_datetime.dt.dayofweek)
*
df.head()
*
df = df.drop('pickup_datetime',axis=1)
df.dtypes
*
df.plot(kind = "box",subplots = True,layout = (7,2),
        figsize=(15,20)) 
*
def remove_outlier(df1 , col):
    Q1 = df1[col].quantile(0.25)
    Q3 = df1[col].quantile(0.75)
    IQR = Q3 - Q1
    lower_whisker = Q1-1.5*IQR
    upper_whisker = Q3+1.5*IQR
    df[col] = np.clip(df1[col] , lower_whisker , upper_whisker)
    return df1
 
def treat_outliers_all(df1 , col_list):
    for c in col_list:
        df1 = remove_outlier(df , c)
    return df1
*
df = treat_outliers_all(df , df.iloc[: , 0::])
*
travel_dist = []
for pos in range(len(df['pickup_longitude'])):
    long1,lati1,long2,lati2 = [df['pickup_longitude'][pos],
                               df['pickup_latitude'][pos],
                               df['dropoff_longitude'][pos],
                               df['dropoff_latitude'][pos]]
    loc1=(lati1,long1)
    loc2=(lati2,long2)
    c = hs.haversine(loc1,loc2)
    travel_dist.append(c)
print(travel_dist)
df['dist_travel_km'] = travel_dist
df.head()
*
df= df.loc[(df.dist_travel_km >= 1) | (df.dist_travel_km <= 130)]
print('Observations left in the dataset:', df.shape)
*
incorrect_coordinates = df.loc[(df.pickup_latitude > 90) |
                               (df.pickup_latitude < -90) | 
                               (df.dropoff_latitude > 90) |
                               (df.dropoff_latitude < -90) |
                               (df.pickup_longitude > 180) |
                               (df.pickup_longitude < -180) |
                               (df.dropoff_longitude > 90) |
                               (df.dropoff_longitude < -90)]
*
df.drop(incorrect_coordinates, inplace = True,
        errors = 'ignore')
*
df.isnull().sum()
*
sns.heatmap(df.isnull())
*
corr = df.corr()
corr
*
fig,axis = plt.subplots(figsize = (10,6))
sns.heatmap(df.corr(),annot = True)
*
x = df[['pickup_longitude','pickup_latitude','dropoff_longitude',
        'dropoff_latitude','passenger_count','hour','day','month',
        'year', 'dayofweek', 'dist_travel_km']]
y = df['fare_amount']
*
x_train,x_test,y_train,y_test = train_test_split(x,y,test_size = 0.33)
regression = LinearRegression()
regression.fit(x_train,y_train)
*
regression.intercept_
*
regression.coef_
*
prediction = regression.predict(x_test)
print('Prediction for x:\n', prediction,'\n')
print('Fare Amount test data:\n', y_test)
*
print('R2 Score:\n',r2_score(y_test, prediction))
*
MSE = mean_squared_error(y_test, prediction)
print('Mean Squared Error:\n', MSE)
*
RMSE = root_mean_squared_error(y_test, prediction)
print('Root Mean Squared Error:\n', RMSE)
*
rf = RandomForestRegressor(n_estimators=100)
rf.fit(x_train, y_train)
**
y_pred = rf.predict(x_test)
print('Predictions for Fare Amount:\n', y_pred)
*
R2_Random = r2_score(y_test, y_pred)
print('Random R2 Score:\n', R2_Random)
*
MSE_Random = mean_squared_error(y_test, y_pred)
print('Random Mean Squared Error:\n', MSE_Random)
*
RMSE_Random = root_mean_squared_error(y_test, y_pred)
print('Random Root Mean Squared Error:\n', RMSE_Random)

